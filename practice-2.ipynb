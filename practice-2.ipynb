{
 "cells": [
  {
   "cell_type": "markdown",
   "metadata": {},
   "source": [
    "# Часть 1: Материалы"
   ]
  },
  {
   "cell_type": "code",
   "execution_count": 8,
   "metadata": {},
   "outputs": [],
   "source": [
    "from pymatgen.ext.matproj import MPRester\n",
    "from pymatgen.core.composition import Composition\n",
    "from pymatgen.analysis.structure_analyzer import SpacegroupAnalyzer\n",
    "\n",
    "API_KEY = \"vnxZTGLIy9DbhmeNLSIJAphlhNNnz04N\"\n",
    "mpr = MPRester(API_KEY)\n"
   ]
  },
  {
   "cell_type": "code",
   "execution_count": 9,
   "metadata": {},
   "outputs": [
    {
     "name": "stdout",
     "output_type": "stream",
     "text": [
      "Full Formula (Mn10 Fe20 O40)\n",
      "Reduced Formula: Mn(FeO2)2\n",
      "abc   :   6.150494   6.100717  30.396005\n",
      "angles:  60.279723  59.998079  59.837294\n",
      "pbc   :       True       True       True\n",
      "Sites (70)\n",
      "  #  SP           a         b         c    magmom\n",
      "---  ----  --------  --------  --------  --------\n",
      "  0  Mn    0.125585  0.12847   0.02481      4.639\n",
      "  1  Mn    0.002381  0.500143  0.099514     3.989\n",
      "  2  Mn    0.128669  0.127284  0.224312     4.634\n",
      "  3  Mn    0.128352  0.122436  0.425415     4.631\n",
      "  4  Mn    0.000682  0.497553  0.50056      4.116\n",
      "  5  Mn    0.12062   0.124349  0.627158     4.63\n",
      "  6  Mn    0.002588  0.501439  0.299683     4.492\n",
      "  7  Mn    0.122237  0.127152  0.825253     4.642\n",
      "  8  Mn    0.998346  0.502359  0.700177     4.095\n",
      "  9  Mn    0.878815  0.874438  0.9738       4.649\n",
      " 10  Fe    0.502299  0.001466  0.099341     4.369\n",
      " 11  Fe    0.500029  0.503541  0.999434     4.38\n",
      " 12  Fe    0.500882  0.499626  0.099371     4.367\n",
      " 13  Fe    0.497122  0.005267  0.299203     4.371\n",
      " 14  Fe    0.501837  0.498678  0.199326     4.368\n",
      " 15  Fe    0.498962  0.500552  0.298789     4.37\n",
      " 16  Fe    0.877569  0.875318  0.175025     3.803\n",
      " 17  Fe    0.498899  0.001195  0.500524     4.37\n",
      " 18  Fe    0.49735   0.49689   0.401208     4.378\n",
      " 19  Fe    0.499029  0.495707  0.50069      4.369\n",
      " 20  Fe    0.869269  0.876801  0.374784     4.354\n",
      " 21  Fe    0.499789  0.502585  0.600433     4.369\n",
      " 22  Fe    0.497639  0.501215  0.69999      4.366\n",
      " 23  Fe    0.875273  0.872543  0.575482     3.798\n",
      " 24  Fe    0.500283  0.497084  0.800101     4.366\n",
      " 25  Fe    0.497277  0.001283  0.700337     4.369\n",
      " 26  Fe    0.500532  0.499565  0.900134     4.381\n",
      " 27  Fe    0.867712  0.878192  0.775951     3.801\n",
      " 28  Fe    0.499613  0.999521  0.900443     4.369\n",
      " 29  Fe    0.998937  0.50057   0.899937     4.366\n",
      " 30  O     0.26187   0.274764  0.051888     0.137\n",
      " 31  O     0.261241  0.26658   0.141381     0.155\n",
      " 32  O     0.284367  0.71653   0.048981     0.256\n",
      " 33  O     0.709425  0.26392   0.050694     0.275\n",
      " 34  O     0.272175  0.257958  0.251759     0.209\n",
      " 35  O     0.28493   0.741584  0.147492     0.273\n",
      " 36  O     0.739976  0.733968  0.057842     0.16\n",
      " 37  O     0.270882  0.258719  0.342899     0.19\n",
      " 38  O     0.283726  0.716213  0.250103     0.247\n",
      " 39  O     0.721357  0.278181  0.149442     0.254\n",
      " 40  O     0.713438  0.256911  0.252762     0.288\n",
      " 41  O     0.748386  0.730309  0.146208     0.145\n",
      " 42  O     0.260007  0.266007  0.453507     0.146\n",
      " 43  O     0.26514   0.744143  0.349978     0.296\n",
      " 44  O     0.724502  0.739574  0.258759     0.206\n",
      " 45  O     0.722862  0.264749  0.351439     0.289\n",
      " 46  O     0.282337  0.25085   0.54403      0.27\n",
      " 47  O     0.262466  0.707389  0.453224     0.167\n",
      " 48  O     0.711945  0.261725  0.451769     0.284\n",
      " 49  O     0.729823  0.74604   0.350793     0.256\n",
      " 50  O     0.288076  0.740968  0.546758     0.276\n",
      " 51  O     0.259182  0.268648  0.65304      0.133\n",
      " 52  O     0.727483  0.754564  0.451771     0.303\n",
      " 53  O     0.737587  0.289327  0.546891     0.166\n",
      " 54  O     0.280288  0.71773   0.650489     0.247\n",
      " 55  O     0.261869  0.262689  0.742642     0.169\n",
      " 56  O     0.713162  0.258923  0.652286     0.273\n",
      " 57  O     0.743941  0.737049  0.54581      0.149\n",
      " 58  O     0.284737  0.739706  0.748406     0.282\n",
      " 59  O     0.263827  0.26019   0.853281     0.272\n",
      " 60  O     0.72327   0.278277  0.749156     0.246\n",
      " 61  O     0.73648   0.741398  0.656751     0.17\n",
      " 62  O     0.267773  0.26854   0.941795     0.277\n",
      " 63  O     0.266836  0.707032  0.854204     0.269\n",
      " 64  O     0.708308  0.263215  0.853704     0.271\n",
      " 65  O     0.741548  0.732124  0.747569     0.143\n",
      " 66  O     0.295744  0.732677  0.94723      0.271\n",
      " 67  O     0.728108  0.29509   0.947254     0.265\n",
      " 68  O     0.738963  0.728505  0.856955     0.272\n",
      " 69  O     0.733389  0.734011  0.947871     0.27\n"
     ]
    }
   ],
   "source": [
    "structures = mpr.get_structures(\"MnFe2O4\")\n",
    "structure = structures[0]\n",
    "print(structure)"
   ]
  },
  {
   "cell_type": "code",
   "execution_count": 7,
   "metadata": {},
   "outputs": [
    {
     "name": "stdout",
     "output_type": "stream",
     "text": [
      "🔬 Анализ состава:\n",
      "Полный состав: Mn10 Fe20 O40\n",
      "Элементы в составе: ['Mn', 'Fe', 'O']\n"
     ]
    }
   ],
   "source": [
    "elements = [str(el) for el in composition.elements]\n",
    "print(\"🔬 Анализ состава:\")\n",
    "print(f\"Полный состав: {composition.formula}\")\n",
    "print(f\"Элементы в составе: {elements}\")"
   ]
  },
  {
   "cell_type": "code",
   "execution_count": 13,
   "metadata": {},
   "outputs": [
    {
     "name": "stdout",
     "output_type": "stream",
     "text": [
      "Параметры решётки:\n",
      "Константы решётки (a, b, c): (6.150493600289411, 6.100716953321962, 30.396005395963694) Å\n",
      "Углы решётки (α, β, γ): (60.279723329094324, 59.99807904718926, 59.83729374457539)°\n",
      "--------------------------------------------------\n",
      "Плотность: 4.7446 г/см³\n"
     ]
    }
   ],
   "source": [
    "lattice = structure.lattice\n",
    "density = structure.density\n",
    "\n",
    "print(\"Параметры решётки:\")\n",
    "print(f\"Константы решётки (a, b, c): {lattice.abc} Å\")\n",
    "print(f\"Углы решётки (α, β, γ): {lattice.angles}°\")\n",
    "print(\"-\" * 50)\n",
    "print(f\"Плотность: {density:.4f} г/см³\")"
   ]
  },
  {
   "cell_type": "markdown",
   "metadata": {},
   "source": [
    "# Часть 2: Последовательности ДНК/РНК"
   ]
  },
  {
   "cell_type": "code",
   "execution_count": 15,
   "metadata": {},
   "outputs": [
    {
     "name": "stdout",
     "output_type": "stream",
     "text": [
      "\n",
      "=== Последовательность 1 ===\n",
      "ДНК: GGATCTGAGCCAGGCAGAGATCAACCCCACCACCTGACTTCCTGGCAGCGGAGCTGGGGTAC\n",
      "Длина: 62\n",
      "GC-состав: 62.90%\n",
      "Обратная комплементарная: GTACCCCAGCTCCGCTGCCAGGAAGTCAGGTGGTGGGGTTGATCTCTGCCTGGCTCAGATCC\n",
      "РНК: GGAUCUGAGCCAGGCAGAGAUCAACCCCACCACCUGACUUCCUGGCAGCGGAGCUGGGGUAC\n",
      "\n",
      "=== Последовательность 2 ===\n",
      "ДНК: GCCTCCTGGCCCAACCCACGGTGCATGGCTCCCGGGGACTGGCTGTTTCCTGCTGGGCCCCACCTG\n",
      "Длина: 66\n",
      "GC-состав: 71.21%\n",
      "Обратная комплементарная: CAGGTGGGGCCCAGCAGGAAACAGCCAGTCCCCGGGAGCCATGCACCGTGGGTTGGGCCAGGAGGC\n",
      "РНК: GCCUCCUGGCCCAACCCACGGUGCAUGGCUCCCGGGGACUGGCUGUUUCCUGCUGGGCCCCACCUG\n"
     ]
    }
   ],
   "source": [
    "from Bio.Seq import Seq\n",
    "from Bio.SeqUtils import gc_fraction\n",
    "\n",
    "hba1_dna = Seq(\"GGATCTGAGCCAGGCAGAGATCAACCCCACCACCTGACTTCCTGGCAGCGGAGCTGGGGTAC\") # Ген HBA1 (Альфа-1 глобин)\n",
    "ins_dna = Seq(\"GCCTCCTGGCCCAACCCACGGTGCATGGCTCCCGGGGACTGGCTGTTTCCTGCTGGGCCCCACCTG\") # Ген INS (Инсулин)\n",
    "\n",
    "sequences = [hba1_dna, ins_dna]\n",
    "\n",
    "for i, seq in enumerate(sequences, start=1):\n",
    "    print(f\"\\n=== Последовательность {i} ===\")\n",
    "    print(\"ДНК:\", seq)\n",
    "    print(\"Длина:\", len(seq))\n",
    "\n",
    "    # GC-состав\n",
    "    gc_content = gc_fraction(seq) * 100\n",
    "    print(\"GC-состав: %.2f%%\" % gc_content)\n",
    "\n",
    "    # Обратная комплементарная \n",
    "    rev_comp = seq.reverse_complement()\n",
    "    print(\"Обратная комплементарная:\", rev_comp)\n",
    "\n",
    "    # Транскрипция в РНК \n",
    "    rna_seq = seq.transcribe()\n",
    "    print(\"РНК:\", rna_seq)\n"
   ]
  },
  {
   "cell_type": "markdown",
   "metadata": {},
   "source": [
    "# Часть 3: Белки"
   ]
  },
  {
   "cell_type": "code",
   "execution_count": 34,
   "metadata": {},
   "outputs": [],
   "source": [
    "from Bio import SeqIO\n",
    "from Bio.Seq import Seq\n",
    "from io import StringIO\n",
    "import requests\n",
    "from collections import Counter\n",
    "\n",
    "# белок по UniProt ID \n",
    "uniprot_id = \"P69905\"  # гемоглобин (HBA)\n",
    "url = f\"https://www.uniprot.org/uniprot/{uniprot_id}.fasta\"\n",
    "\n",
    "response = requests.get(url)"
   ]
  },
  {
   "cell_type": "code",
   "execution_count": 35,
   "metadata": {},
   "outputs": [
    {
     "name": "stdout",
     "output_type": "stream",
     "text": [
      "=== Белок ===\n",
      "Название: sp|P69905|HBA_HUMAN Hemoglobin subunit alpha OS=Homo sapiens OX=9606 GN=HBA1 PE=1 SV=2\n",
      "Длина: 142\n",
      "Последовательность (первые 50 aa): MVLSPADKTNVKAAWGKVGAHAGEYGAEALERMFLSFPTTKTYFPHFDLS\n",
      "\n",
      "Состав аминокислот:\n",
      "A: 21\n",
      "C: 1\n",
      "D: 8\n",
      "E: 4\n",
      "F: 7\n",
      "G: 7\n",
      "H: 10\n",
      "K: 11\n",
      "L: 18\n",
      "M: 3\n",
      "N: 4\n",
      "P: 7\n",
      "Q: 1\n",
      "R: 3\n",
      "S: 11\n",
      "T: 9\n",
      "V: 13\n",
      "W: 1\n",
      "Y: 3\n",
      "\n",
      "5 самых частых дипептидов:\n",
      "LS: 6\n",
      "AH: 4\n",
      "AL: 4\n",
      "PA: 3\n",
      "HA: 3\n"
     ]
    }
   ],
   "source": [
    "fasta_io = StringIO(response.text)\n",
    "seq_record = SeqIO.read(fasta_io, \"fasta\")\n",
    "protein_seq = seq_record.seq\n",
    "\n",
    "print(\"=== Белок ===\")\n",
    "print(\"Название:\", seq_record.description)\n",
    "print(\"Длина:\", len(protein_seq))\n",
    "print(\"Последовательность (первые 50 aa):\", protein_seq[:50])\n",
    "\n",
    "# Состав аминокислот\n",
    "aa_counts = Counter(protein_seq)\n",
    "print(\"\\nСостав аминокислот:\")\n",
    "for aa, count in sorted(aa_counts.items()):\n",
    "    print(f\"{aa}: {count}\")\n",
    "\n",
    "# Частоты дипептидов\n",
    "dipeptides = [protein_seq[i:i+2] for i in range(len(protein_seq)-1)]\n",
    "dipep_counts = Counter(dipeptides)\n",
    "print(\"\\n5 самых частых дипептидов:\")\n",
    "for dp, count in dipep_counts.most_common(5):\n",
    "    print(f\"{dp}: {count}\")\n"
   ]
  }
 ],
 "metadata": {
  "kernelspec": {
   "display_name": "base",
   "language": "python",
   "name": "python3"
  },
  "language_info": {
   "codemirror_mode": {
    "name": "ipython",
    "version": 3
   },
   "file_extension": ".py",
   "mimetype": "text/x-python",
   "name": "python",
   "nbconvert_exporter": "python",
   "pygments_lexer": "ipython3",
   "version": "3.13.5"
  },
  "orig_nbformat": 4
 },
 "nbformat": 4,
 "nbformat_minor": 2
}
